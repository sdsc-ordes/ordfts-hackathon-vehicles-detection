{
 "cells": [
  {
   "cell_type": "code",
   "execution_count": null,
   "metadata": {},
   "outputs": [],
   "source": [
    "datafolder = \"/data/20181029_D4_0900_0930/20181029_D4_0900_0930\""
   ]
  },
  {
   "cell_type": "code",
   "execution_count": null,
   "metadata": {},
   "outputs": [],
   "source": [
    "import pandas as pd\n",
    "import pyarrow as pa\n",
    "import pyarrow.parquet as pq\n",
    "from pathlib import Path\n",
    "from PIL import Image\n",
    "\n",
    "def image_to_bytes(image_path):\n",
    "    with Image.open(image_path) as img:\n",
    "        return img.tobytes()\n",
    "\n",
    "\n",
    "# Define working directories\n",
    "workdir = Path(datafolder)  # Update this to your data directory\n",
    "annotations_dir = workdir / \"Annotations\"\n",
    "frames_dir = workdir / \"Frames\"\n",
    "out_path = workdir / \"my_data.parquet\"\n",
    "\n",
    "# List all annotation files\n",
    "annotation_files = sorted(annotations_dir.glob(\"*.csv\"))\n",
    "\n",
    "data = {\n",
    "    \"images\": [],\n",
    "    \"metadata\": []\n",
    "}\n",
    "\n",
    "# Loop through all annotation files and load the corresponding images\n",
    "for annotation_file in annotation_files:\n",
    "    # Extract the base filename without extension (e.g., '00001' from '00001.csv')\n",
    "    base_name = annotation_file.stem\n",
    "    \n",
    "    # Define the corresponding image file path\n",
    "    image_path = frames_dir / f\"{base_name}.jpg\"\n",
    "    \n",
    "    # Read the CSV metadata\n",
    "    metadata = pd.read_csv(annotation_file)\n",
    "    \n",
    "    # Convert the image to bytes\n",
    "    image_bytes = image_to_bytes(image_path)\n",
    "    \n",
    "    # Append data to the list\n",
    "    data[\"images\"].append(image_bytes)\n",
    "    data[\"metadata\"].append(metadata.to_dict(orient=\"records\"))  # Convert metadata to a list of dictionaries\n",
    "\n",
    "# Convert the collected data into a DataFrame\n",
    "df = pd.DataFrame(data)\n",
    "\n",
    "# Convert the DataFrame to Arrow Table\n",
    "table = pa.Table.from_pandas(df)\n",
    "\n",
    "# Write the table to a Parquet file\n",
    "pq.write_table(table, out_path)\n",
    "\n",
    "print(f\"Parquet file saved to {out_path}\")"
   ]
  }
 ],
 "metadata": {
  "language_info": {
   "name": "python"
  }
 },
 "nbformat": 4,
 "nbformat_minor": 2
}
